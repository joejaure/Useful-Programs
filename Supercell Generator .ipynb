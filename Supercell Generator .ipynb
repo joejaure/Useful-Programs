{
 "cells": [
  {
   "cell_type": "code",
   "execution_count": 215,
   "metadata": {},
   "outputs": [],
   "source": [
    "import numpy as np \n",
    "import scipy as sp"
   ]
  },
  {
   "cell_type": "code",
   "execution_count": 216,
   "metadata": {},
   "outputs": [],
   "source": [
    "file = open(\"Si.pos.txt\",\"w+\")"
   ]
  },
  {
   "cell_type": "code",
   "execution_count": 217,
   "metadata": {},
   "outputs": [],
   "source": [
    "#unit cell/point basis in terms of 1/a\n",
    "O = np.array([0,0,0])\n",
    "b = np.array([.25,.25,.25])"
   ]
  },
  {
   "cell_type": "code",
   "execution_count": 218,
   "metadata": {},
   "outputs": [],
   "source": [
    "#primitive vectors in terms of 1/a\n",
    "a1 = np.array([0,1/2,1/2])\n",
    "a2 = np.array([1/2,0,1/2])\n",
    "a3 = np.array([1/2,1/2,0])\n",
    "prim = np.array([a1,a2,a3])"
   ]
  },
  {
   "cell_type": "code",
   "execution_count": null,
   "metadata": {},
   "outputs": [],
   "source": []
  },
  {
   "cell_type": "code",
   "execution_count": 219,
   "metadata": {},
   "outputs": [
    {
     "name": "stdout",
     "output_type": "stream",
     "text": [
      "Number of atoms in supercell = 128\n",
      "Lattice parameter of supercell = 41.3816\n"
     ]
    }
   ],
   "source": [
    "#Dimensions\n",
    "lat = 10.3454\n",
    "atoms = 2\n",
    "dim = 4\n",
    "N = atoms * (dim**3)\n",
    "print(\"Number of atoms in supercell = \"+str(N))\n",
    "print(\"Lattice parameter of supercell = \"+str(4*lat))"
   ]
  },
  {
   "cell_type": "code",
   "execution_count": 220,
   "metadata": {},
   "outputs": [],
   "source": [
    "#Scaling \n",
    "O = O/dim\n",
    "b = b/dim\n",
    "prim = prim/dim"
   ]
  },
  {
   "cell_type": "code",
   "execution_count": 221,
   "metadata": {},
   "outputs": [],
   "source": [
    "#Generating translations of each point\n",
    "#Origin translations\n",
    "for i in range(dim):\n",
    "    for j in range(dim):\n",
    "        for k in  range(dim):\n",
    "            t = np.array([[i,0,0],[0,j,0],[0,0,k]]) # translation in each orthogonal direction\n",
    "            tprim = np.dot(t,prim) #translation of each primitive direction\n",
    "            o_step = O + tprim[0] + tprim[1] + tprim [2] # translating point\n",
    "            file.write(\"%f   \" % (o_step[0])) #new point in terms of supercell lat parameter\n",
    "            file.write(\"%f   \" % (o_step[1]))\n",
    "            file.write(\"%f   \\n\" % (o_step[2]))"
   ]
  },
  {
   "cell_type": "code",
   "execution_count": 222,
   "metadata": {},
   "outputs": [],
   "source": [
    "#basis translations \n",
    "for i in range(dim):\n",
    "    for j in range(dim):\n",
    "        for k in  range(dim):\n",
    "            t = np.array([[i,0,0],[0,j,0],[0,0,k]])\n",
    "            tprim = np.dot(t,prim) \n",
    "            b_step = b + tprim[0] + tprim[1] + tprim [2]\n",
    "            file.write(\"%f   \" % (b_step[0]))\n",
    "            file.write(\"%f   \" % (b_step[1]))\n",
    "            file.write(\"%f   \\n\" % (b_step[2]))\n",
    "file.close()"
   ]
  },
  {
   "cell_type": "code",
   "execution_count": null,
   "metadata": {},
   "outputs": [],
   "source": []
  },
  {
   "cell_type": "code",
   "execution_count": null,
   "metadata": {},
   "outputs": [],
   "source": []
  },
  {
   "cell_type": "code",
   "execution_count": null,
   "metadata": {},
   "outputs": [],
   "source": []
  }
 ],
 "metadata": {
  "kernelspec": {
   "display_name": "Python 3",
   "language": "python",
   "name": "python3"
  },
  "language_info": {
   "codemirror_mode": {
    "name": "ipython",
    "version": 3
   },
   "file_extension": ".py",
   "mimetype": "text/x-python",
   "name": "python",
   "nbconvert_exporter": "python",
   "pygments_lexer": "ipython3",
   "version": "3.8.3"
  }
 },
 "nbformat": 4,
 "nbformat_minor": 4
}
